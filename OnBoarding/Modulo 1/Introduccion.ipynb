{
 "cells": [
  {
   "cell_type": "markdown",
   "metadata": {},
   "source": [
    "# Trabajar con salidas"
   ]
  },
  {
   "cell_type": "code",
   "execution_count": 2,
   "metadata": {},
   "outputs": [
    {
     "name": "stdout",
     "output_type": "stream",
     "text": [
      "3\n"
     ]
    }
   ],
   "source": [
    "# Un programa de python \n",
    "# program.py\n",
    "sum= 1+2 \n",
    "print (sum)"
   ]
  },
  {
   "cell_type": "code",
   "execution_count": 3,
   "metadata": {},
   "outputs": [
    {
     "ename": "SyntaxError",
     "evalue": "invalid syntax (1095832579.py, line 1)",
     "output_type": "error",
     "traceback": [
      "\u001b[1;36m  Input \u001b[1;32mIn [3]\u001b[1;36m\u001b[0m\n\u001b[1;33m    python3 program.py\u001b[0m\n\u001b[1;37m            ^\u001b[0m\n\u001b[1;31mSyntaxError\u001b[0m\u001b[1;31m:\u001b[0m invalid syntax\n"
     ]
    }
   ],
   "source": [
    "#Ejecutar un programa\n",
    "python3 program.py"
   ]
  },
  {
   "cell_type": "code",
   "execution_count": 8,
   "metadata": {},
   "outputs": [
    {
     "name": "stdout",
     "output_type": "stream",
     "text": [
      "Hola desde la consola\n"
     ]
    }
   ],
   "source": [
    "#Funcion print()\n",
    "# Impresión en pantalla print ('Hola desde la consola')\n",
    "print ('Hola desde la consola')"
   ]
  },
  {
   "cell_type": "code",
   "execution_count": 4,
   "metadata": {},
   "outputs": [
    {
     "name": "stdout",
     "output_type": "stream",
     "text": [
      "6\n"
     ]
    }
   ],
   "source": [
    "#Variables\n",
    "sum = 1+2 #3\n",
    "product =sum*2 \n",
    "print (product)"
   ]
  },
  {
   "cell_type": "code",
   "execution_count": 13,
   "metadata": {},
   "outputs": [
    {
     "data": {
      "text/plain": [
       "bool"
      ]
     },
     "execution_count": 13,
     "metadata": {},
     "output_type": "execute_result"
    }
   ],
   "source": [
    "#Tipos de datos\n",
    "planetas_en_el_sistema_solar = 8 # int, plutón era considerado un planeta pero ya es muy pequeño\n",
    "distancia_a_alfa_centauri =4.367  # float, años luz\n",
    "puede_descargar = True\n",
    "transbordador_que_aterrizo_en_la_luna = \"Apollo 11\" # string \n",
    "\n",
    "\n",
    "type (puede_descargar)"
   ]
  },
  {
   "cell_type": "code",
   "execution_count": 14,
   "metadata": {},
   "outputs": [
    {
     "data": {
      "text/plain": [
       "2.0"
      ]
     },
     "execution_count": 14,
     "metadata": {},
     "output_type": "execute_result"
    }
   ],
   "source": [
    "# Operadores \n",
    "left_side = 10\n",
    "right_side =5\n",
    "left_side / right_side #2"
   ]
  },
  {
   "cell_type": "code",
   "execution_count": 2,
   "metadata": {},
   "outputs": [
    {
     "name": "stdout",
     "output_type": "stream",
     "text": [
      "Suma 2\n",
      "Resta -1\n",
      "División 5.0\n",
      "Multiplicación 4\n"
     ]
    }
   ],
   "source": [
    "# Operadores aritméticos \n",
    "adicion = 1+1 \n",
    "resta = 1-2 \n",
    "division = 10/2 \n",
    "multiplicacion = 2*2\n",
    "\n",
    "print (\"Suma\" , adicion)\n",
    "print (\"Resta\" , resta)\n",
    "print (\"División\" , division)\n",
    "print (\"Multiplicación\" , multiplicacion)\n"
   ]
  },
  {
   "cell_type": "code",
   "execution_count": 31,
   "metadata": {},
   "outputs": [
    {
     "name": "stdout",
     "output_type": "stream",
     "text": [
      "4\n"
     ]
    }
   ],
   "source": [
    " #Operadores de asignación\n",
    "x = 2\n",
    "x +=2\n",
    "x -= 2\n",
    " x /= 2\n",
    " x*=2 \n",
    "\n",
    "\n",
    "print (x)"
   ]
  },
  {
   "cell_type": "code",
   "execution_count": 1,
   "metadata": {},
   "outputs": [
    {
     "name": "stdout",
     "output_type": "stream",
     "text": [
      "2022-02-09\n"
     ]
    }
   ],
   "source": [
    "#Fechas\n",
    "#importamos biblioteca \n",
    "from datetime import date \n",
    "\n",
    "#Obtenemos la fecha de hoy \n",
    "date.today()\n",
    "\n",
    "#Mostramos la fecha \n",
    "print (date.today())\n"
   ]
  },
  {
   "cell_type": "code",
   "execution_count": 4,
   "metadata": {},
   "outputs": [
    {
     "name": "stdout",
     "output_type": "stream",
     "text": [
      "Today´s date is: 2022-02-09\n"
     ]
    }
   ],
   "source": [
    "#Conversion de tipo de datos\n",
    "print (\"Today´s date is:\" , str (date.today()))"
   ]
  },
  {
   "cell_type": "markdown",
   "metadata": {},
   "source": [
    "# Recopilar información"
   ]
  },
  {
   "cell_type": "code",
   "execution_count": 10,
   "metadata": {},
   "outputs": [
    {
     "name": "stdout",
     "output_type": "stream",
     "text": [
      "Bienvenido al programa de bienvenida\n",
      "Saludos, Jocelyn\n"
     ]
    }
   ],
   "source": [
    "#Entrada de usuario \n",
    "print (\"Bienvenido al programa de bienvenida\")\n",
    "name = input (\"Introduzca su nombre\")\n",
    "print (\"Saludos,\" , name)\n"
   ]
  },
  {
   "cell_type": "code",
   "execution_count": 11,
   "metadata": {},
   "outputs": [
    {
     "name": "stdout",
     "output_type": "stream",
     "text": [
      "Calculadora\n",
      "42\n"
     ]
    }
   ],
   "source": [
    "#Calculadora\n",
    "print (\"Calculadora\")\n",
    "first_number = input(\"Primer número: \")\n",
    "second_number = input(\"Segundo número: \")\n",
    "print( first_number + second_number)"
   ]
  },
  {
   "cell_type": "code",
   "execution_count": 12,
   "metadata": {},
   "outputs": [
    {
     "name": "stdout",
     "output_type": "stream",
     "text": [
      "Calculadora\n",
      "11\n"
     ]
    }
   ],
   "source": [
    "print (\"Calculadora\")\n",
    "first_number = input(\"Primer número: \")\n",
    "second_number = input(\"Segundo número: \")\n",
    "print( int (first_number) + int (second_number))"
   ]
  }
 ],
 "metadata": {
  "interpreter": {
   "hash": "a9cdaa1654576d4242bf826472b6c0b6926e0c20c06bca416ef8a77950eb2d13"
  },
  "kernelspec": {
   "display_name": "Python 3.9.10 64-bit (windows store)",
   "language": "python",
   "name": "python3"
  },
  "language_info": {
   "codemirror_mode": {
    "name": "ipython",
    "version": 3
   },
   "file_extension": ".py",
   "mimetype": "text/x-python",
   "name": "python",
   "nbconvert_exporter": "python",
   "pygments_lexer": "ipython3",
   "version": "3.9.10"
  },
  "orig_nbformat": 4
 },
 "nbformat": 4,
 "nbformat_minor": 2
}
