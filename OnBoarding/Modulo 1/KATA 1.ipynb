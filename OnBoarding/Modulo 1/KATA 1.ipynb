{
 "cells": [
  {
   "cell_type": "markdown",
   "metadata": {},
   "source": [
    "# Tu primer programa Jocelyn"
   ]
  },
  {
   "cell_type": "code",
   "execution_count": 43,
   "metadata": {},
   "outputs": [
    {
     "name": "stdout",
     "output_type": "stream",
     "text": [
      "La fecha de hoy es: 2022-02-09\n"
     ]
    }
   ],
   "source": [
    "from datetime import date \n",
    "date.today()\n",
    "print(\"La fecha de hoy es:\" , str(date.today()))"
   ]
  },
  {
   "cell_type": "markdown",
   "metadata": {},
   "source": [
    "# Convertidor de unidades"
   ]
  },
  {
   "cell_type": "code",
   "execution_count": 47,
   "metadata": {},
   "outputs": [
    {
     "name": "stdout",
     "output_type": "stream",
     "text": [
      "Un pársec equivale a 3.26156 años luz\n",
      "25 pársecs equivalen a  81.539 años luz\n"
     ]
    }
   ],
   "source": [
    "# Un convertidor de unidades es un instrumento para calcular la equivalencia entre determinadas unidades de medida.\n",
    "# Este convertidor nos permite ingresar la cantidad de parsecs que necesitamos convertir a años luz.\n",
    "años_luz =3.26156\n",
    "print ( \"Un pársec equivale a \" + str (años_luz) + \" años luz\")\n",
    "\n",
    "parsec= input (\"Introuzca la cantidad de pársec a convertir\")\n",
    "\n",
    "cantidad = int (parsec) * años_luz\n",
    "\n",
    "\n",
    "print (parsec, \"pársecs equivalen a \" , cantidad,  \"años luz\")"
   ]
  }
 ],
 "metadata": {
  "interpreter": {
   "hash": "a9cdaa1654576d4242bf826472b6c0b6926e0c20c06bca416ef8a77950eb2d13"
  },
  "kernelspec": {
   "display_name": "Python 3.9.10 64-bit (windows store)",
   "language": "python",
   "name": "python3"
  },
  "language_info": {
   "codemirror_mode": {
    "name": "ipython",
    "version": 3
   },
   "file_extension": ".py",
   "mimetype": "text/x-python",
   "name": "python",
   "nbconvert_exporter": "python",
   "pygments_lexer": "ipython3",
   "version": "3.9.10"
  },
  "orig_nbformat": 4
 },
 "nbformat": 4,
 "nbformat_minor": 2
}
