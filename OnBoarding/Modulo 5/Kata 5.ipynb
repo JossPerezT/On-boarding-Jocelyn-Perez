{
 "cells": [
  {
   "cell_type": "markdown",
   "metadata": {},
   "source": [
    "# Ejercicio 1\n"
   ]
  },
  {
   "cell_type": "code",
   "execution_count": 20,
   "metadata": {},
   "outputs": [
    {
     "name": "stdout",
     "output_type": "stream",
     "text": [
      "149597870 778547200\n"
     ]
    }
   ],
   "source": [
    "#Calcular la distancia entre dos planetas \n",
    "tierra = 149597870 # km \n",
    "jupiter = 778547200 #km\n",
    "print (tierra ,jupiter)"
   ]
  },
  {
   "cell_type": "code",
   "execution_count": 21,
   "metadata": {},
   "outputs": [],
   "source": [
    "# operación \n",
    "distancia = abs (tierra - jupiter)\n",
    "millas = distancia * 0.621"
   ]
  },
  {
   "cell_type": "code",
   "execution_count": 22,
   "metadata": {},
   "outputs": [
    {
     "name": "stdout",
     "output_type": "stream",
     "text": [
      "La distancia entre la Tierra y Júpiter es de 628949330 km. Es decir, 390577533.93 milas.\n"
     ]
    }
   ],
   "source": [
    "print (\"La distancia entre la Tierra y Júpiter es de \" + str (distancia) , \"km. Es decir, \" + str(millas), \"milas.\") "
   ]
  },
  {
   "cell_type": "markdown",
   "metadata": {},
   "source": [
    "# Ejercicio 2"
   ]
  },
  {
   "cell_type": "code",
   "execution_count": 23,
   "metadata": {},
   "outputs": [],
   "source": [
    "name1 = input (\"Inserta el nombre del primer planeta \")\n",
    "valor1 = input (\"Inserte la distancia del planeta \" +name1 )\n",
    "name2 = input (\"Inserta el nombre del segundo planeta \")\n",
    "valor2 = input (\"Inserte la distancia del planeta 2 \" + name2)"
   ]
  },
  {
   "cell_type": "code",
   "execution_count": 24,
   "metadata": {},
   "outputs": [],
   "source": [
    "planeta1 = int (valor1)\n",
    "planeta2 = int (valor2)\n"
   ]
  },
  {
   "cell_type": "code",
   "execution_count": 25,
   "metadata": {},
   "outputs": [],
   "source": [
    "dist = abs (planeta1 - planeta2)\n",
    "mill = dist * 0.621\n",
    "\n",
    " "
   ]
  },
  {
   "cell_type": "code",
   "execution_count": 29,
   "metadata": {},
   "outputs": [
    {
     "name": "stdout",
     "output_type": "stream",
     "text": [
      "La distancia entre el planeta  mercurio y el planeta  venus  es de  50300000 km. Es decir,  31236300.0 millas.\n"
     ]
    }
   ],
   "source": [
    "print ('La distancia entre el planeta ' , name1 , 'y el planeta ' , name2 ,'es de ' , dist , \"km. Es decir, \" , abs(mill) , \"millas.\")"
   ]
  }
 ],
 "metadata": {
  "interpreter": {
   "hash": "a9cdaa1654576d4242bf826472b6c0b6926e0c20c06bca416ef8a77950eb2d13"
  },
  "kernelspec": {
   "display_name": "Python 3.9.10 64-bit (windows store)",
   "language": "python",
   "name": "python3"
  },
  "language_info": {
   "codemirror_mode": {
    "name": "ipython",
    "version": 3
   },
   "file_extension": ".py",
   "mimetype": "text/x-python",
   "name": "python",
   "nbconvert_exporter": "python",
   "pygments_lexer": "ipython3",
   "version": "3.9.10"
  },
  "orig_nbformat": 4
 },
 "nbformat": 4,
 "nbformat_minor": 2
}
