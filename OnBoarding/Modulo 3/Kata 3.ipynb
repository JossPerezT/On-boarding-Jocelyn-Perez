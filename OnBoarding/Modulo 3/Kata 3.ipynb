{
 "cells": [
  {
   "cell_type": "code",
   "execution_count": 7,
   "metadata": {},
   "outputs": [
    {
     "name": "stdout",
     "output_type": "stream",
     "text": [
      "ADVERTENCIA: un asteroide se acerca a la Tierra\n"
     ]
    }
   ],
   "source": [
    "#1 \n",
    "vel_as = 49 \n",
    "if vel_as > 25: \n",
    "    print (\"ADVERTENCIA: un asteroide se acerca a la Tierra\")\n",
    "else: \n",
    "    print (\"No hay peligro, continua tus actividades\")"
   ]
  },
  {
   "cell_type": "code",
   "execution_count": 9,
   "metadata": {},
   "outputs": [
    {
     "name": "stdout",
     "output_type": "stream",
     "text": [
      "Esta pasando un asteroide por el cielo, pero no lo suficientemente rapido para que lo vean\n"
     ]
    }
   ],
   "source": [
    "#2\n",
    "vel_as = 19 \n",
    "if vel_as > 25: \n",
    "    print (\"ADVERTENCIA: un asteroide se acerca a la Tierra\")\n",
    "elif vel_as >= 20: \n",
    "    print (\"¡Look up! Hay un rayo de luz por un asteroide en el cielo\")\n",
    "else: \n",
    "    print (\"Esta pasando un asteroide por el cielo, pero no lo suficientemente rapido para que lo vean\")\n",
    "    \n"
   ]
  },
  {
   "cell_type": "code",
   "execution_count": 15,
   "metadata": {},
   "outputs": [
    {
     "name": "stdout",
     "output_type": "stream",
     "text": [
      "Esta pasando un asteroide por el cielo, pero no tan rápido para que lo vean\n",
      "El asteroide causará mucho daño\n"
     ]
    }
   ],
   "source": [
    "# 3\n",
    "tam_ast = input (\"Ingrese el tamaño del asteroide\")\n",
    "vel_as = input (\"Ingrese la velocidad del asteroide\")\n",
    "\n",
    "if int (vel_as) > 25: \n",
    "    print (\"ADVERTENCIA: un asteroide se acerca a la Tierra\")\n",
    "elif int (vel_as) >= 20: \n",
    "    print (\"¡Look up! Hay un rayo de luz por un asteroide en el cielo\")\n",
    "else: \n",
    "    print (\"Esta pasando un asteroide por el cielo, pero no tan rápido para que lo vean\")\n",
    "    \n",
    "\n",
    "if int (tam_ast) < 25: \n",
    "    print (\"El asteroide se quemará al entrar a la atmósfera\")\n",
    "elif int (tam_ast) > 25 and int (tam_ast) < 1000: \n",
    "    print (\"El asteroide causará mucho daño\")"
   ]
  },
  {
   "cell_type": "code",
   "execution_count": null,
   "metadata": {},
   "outputs": [],
   "source": []
  }
 ],
 "metadata": {
  "interpreter": {
   "hash": "a9cdaa1654576d4242bf826472b6c0b6926e0c20c06bca416ef8a77950eb2d13"
  },
  "kernelspec": {
   "display_name": "Python 3.9.10 64-bit (windows store)",
   "language": "python",
   "name": "python3"
  },
  "language_info": {
   "codemirror_mode": {
    "name": "ipython",
    "version": 3
   },
   "file_extension": ".py",
   "mimetype": "text/x-python",
   "name": "python",
   "nbconvert_exporter": "python",
   "pygments_lexer": "ipython3",
   "version": "3.9.10"
  },
  "orig_nbformat": 4
 },
 "nbformat": 4,
 "nbformat_minor": 2
}
