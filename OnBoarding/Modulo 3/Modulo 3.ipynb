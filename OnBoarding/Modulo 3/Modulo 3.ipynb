{
 "cells": [
  {
   "cell_type": "code",
   "execution_count": 3,
   "metadata": {},
   "outputs": [],
   "source": [
    "# Prática 1\n",
    "a = 97\n",
    "b = 55\n",
    "#Este sería la expresión de prueba (test expression)\n",
    "if a < b: \n",
    "    #intrucción a ejecutar (statement to be run)\n",
    "    print (b)"
   ]
  },
  {
   "cell_type": "code",
   "execution_count": 4,
   "metadata": {},
   "outputs": [
    {
     "name": "stdout",
     "output_type": "stream",
     "text": [
      "93\n"
     ]
    }
   ],
   "source": [
    "# práctica 2\n",
    "a = 93 \n",
    "b = 27\n",
    "if a>= b: \n",
    "    print (a)"
   ]
  },
  {
   "cell_type": "code",
   "execution_count": 6,
   "metadata": {},
   "outputs": [
    {
     "name": "stdout",
     "output_type": "stream",
     "text": [
      "44\n"
     ]
    }
   ],
   "source": [
    "#práctica 2.1\n",
    "a = 24\n",
    "b = 44\n",
    "if a<= 0: \n",
    "    print (a)\n",
    "print (b)"
   ]
  },
  {
   "cell_type": "code",
   "execution_count": 11,
   "metadata": {},
   "outputs": [
    {
     "name": "stdout",
     "output_type": "stream",
     "text": [
      "127\n"
     ]
    }
   ],
   "source": [
    "# Else \n",
    "a = 93 \n",
    "b = 127\n",
    "if a>= b: \n",
    "    print (\"A es mayor a b\")\n",
    "else: \n",
    "    print (b)"
   ]
  },
  {
   "cell_type": "code",
   "execution_count": 15,
   "metadata": {},
   "outputs": [
    {
     "name": "stdout",
     "output_type": "stream",
     "text": [
      "A es igual que b\n"
     ]
    }
   ],
   "source": [
    "#Elif \n",
    "a = 93 \n",
    "b = 93\n",
    "if a> b: \n",
    "    print (\"A es mayor o igual que b\")\n",
    "elif a==b: \n",
    "    print (\"A es igual que b\")"
   ]
  },
  {
   "cell_type": "code",
   "execution_count": 21,
   "metadata": {},
   "outputs": [
    {
     "name": "stdout",
     "output_type": "stream",
     "text": [
      "A es menor que b\n"
     ]
    }
   ],
   "source": [
    "#Combinaciones \n",
    "a = 93 \n",
    "b = 93.001\n",
    "if a> b: \n",
    "    print (\"A es mayor que b\")\n",
    "elif a<b: \n",
    "    print (\"A es menor que b\")\n",
    "else: \n",
    "    print (\"a es igual que b\")"
   ]
  },
  {
   "cell_type": "code",
   "execution_count": 25,
   "metadata": {},
   "outputs": [
    {
     "name": "stdout",
     "output_type": "stream",
     "text": [
      "A es mayor que B y menor que C\n"
     ]
    }
   ],
   "source": [
    "#Lógica anidada \n",
    "a = 29 \n",
    "b = 26\n",
    "c = 27\n",
    "if a > b: \n",
    "    if b > c: \n",
    "        print (\"A es mayor que B y B es mayor que C\")\n",
    "    else: \n",
    "        print (\"A es mayor que B y menor que C\")\n",
    "elif a == b: \n",
    "    print (\"A es igual que b\")\n",
    "else: \n",
    "    print (\"A es menor que B\")"
   ]
  },
  {
   "cell_type": "code",
   "execution_count": 28,
   "metadata": {},
   "outputs": [
    {
     "name": "stdout",
     "output_type": "stream",
     "text": [
      "57\n"
     ]
    }
   ],
   "source": [
    "# or\n",
    "a = 23\n",
    "b = 34\n",
    "if a == 34 or b == 34: \n",
    "    print (a+b)"
   ]
  },
  {
   "cell_type": "code",
   "execution_count": 29,
   "metadata": {},
   "outputs": [],
   "source": [
    "# and \n",
    "a = 23\n",
    "b = 34\n",
    "if a == 34 and b == 34: \n",
    "    print (a+b)"
   ]
  }
 ],
 "metadata": {
  "interpreter": {
   "hash": "a9cdaa1654576d4242bf826472b6c0b6926e0c20c06bca416ef8a77950eb2d13"
  },
  "kernelspec": {
   "display_name": "Python 3.9.10 64-bit (windows store)",
   "language": "python",
   "name": "python3"
  },
  "language_info": {
   "codemirror_mode": {
    "name": "ipython",
    "version": 3
   },
   "file_extension": ".py",
   "mimetype": "text/x-python",
   "name": "python",
   "nbconvert_exporter": "python",
   "pygments_lexer": "ipython3",
   "version": "3.9.10"
  },
  "orig_nbformat": 4
 },
 "nbformat": 4,
 "nbformat_minor": 2
}
