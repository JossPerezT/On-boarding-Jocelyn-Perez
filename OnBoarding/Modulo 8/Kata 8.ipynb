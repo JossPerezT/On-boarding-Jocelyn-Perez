{
 "cells": [
  {
   "cell_type": "markdown",
   "metadata": {},
   "source": [
    "# Ejercicio 1"
   ]
  },
  {
   "cell_type": "code",
   "execution_count": 5,
   "metadata": {},
   "outputs": [],
   "source": [
    "planet = {\n",
    "    'name' : 'Mars' , \n",
    "    'moons' : 2\n",
    "}"
   ]
  },
  {
   "cell_type": "code",
   "execution_count": 72,
   "metadata": {},
   "outputs": [
    {
     "name": "stdout",
     "output_type": "stream",
     "text": [
      " El planeta Mars tiene 2 lunas.\n"
     ]
    }
   ],
   "source": [
    "print (f' El planeta {planet [\"name\"]} tiene {planet [\"moons\"]} lunas.')"
   ]
  },
  {
   "cell_type": "code",
   "execution_count": 73,
   "metadata": {},
   "outputs": [],
   "source": [
    "planet ['cicunferencia (km)'] = {\n",
    "    'polar' : 6752 ,\n",
    "    'equatorial' : 6792\n",
    "}"
   ]
  },
  {
   "cell_type": "code",
   "execution_count": 74,
   "metadata": {},
   "outputs": [
    {
     "name": "stdout",
     "output_type": "stream",
     "text": [
      " Mars tiene una circunferencia polar de 6752 km\n"
     ]
    }
   ],
   "source": [
    "print (f' {planet [\"name\"]} tiene una circunferencia polar de { planet [\"cicunferencia (km)\"] [\"polar\"]} km')"
   ]
  },
  {
   "cell_type": "markdown",
   "metadata": {},
   "source": [
    "# Ejercicio 2"
   ]
  },
  {
   "cell_type": "code",
   "execution_count": 47,
   "metadata": {},
   "outputs": [],
   "source": [
    "planet_moons = {\n",
    "    'mercury': 0,\n",
    "    'venus': 0,\n",
    "    'earth': 1,\n",
    "    'mars': 2,\n",
    "    'jupiter': 79,\n",
    "    'saturn': 82,\n",
    "    'uranus': 27,\n",
    "    'neptune': 14,\n",
    "    'pluto': 5,\n",
    "    'haumea': 2,\n",
    "    'makemake': 1,\n",
    "    'eris': 1\n",
    "}\n"
   ]
  },
  {
   "cell_type": "code",
   "execution_count": 77,
   "metadata": {},
   "outputs": [
    {
     "name": "stdout",
     "output_type": "stream",
     "text": [
      " Tenemos un total de 12 planetas\n"
     ]
    }
   ],
   "source": [
    "moons = planet_moons.values ()\n",
    "planets = len (planet_moons)\n",
    "print (f' Tenemos un total de {planets} planetas')"
   ]
  },
  {
   "cell_type": "code",
   "execution_count": 78,
   "metadata": {},
   "outputs": [
    {
     "name": "stdout",
     "output_type": "stream",
     "text": [
      " Tenemos 12 planetas y un total de 214 lunas. \n",
      " Un promedio de 17.833333333333332 lunas\n"
     ]
    }
   ],
   "source": [
    "total_moons = 0 \n",
    "for valor in moons: \n",
    "    total_moons = total_moons + valor\n",
    "promedio = total_moons / planets\n",
    "print (f' Tenemos {planets} planetas y un total de {total_moons} lunas. \\n Un promedio de {promedio} lunas')"
   ]
  }
 ],
 "metadata": {
  "interpreter": {
   "hash": "a9cdaa1654576d4242bf826472b6c0b6926e0c20c06bca416ef8a77950eb2d13"
  },
  "kernelspec": {
   "display_name": "Python 3.9.10 64-bit (windows store)",
   "language": "python",
   "name": "python3"
  },
  "language_info": {
   "codemirror_mode": {
    "name": "ipython",
    "version": 3
   },
   "file_extension": ".py",
   "mimetype": "text/x-python",
   "name": "python",
   "nbconvert_exporter": "python",
   "pygments_lexer": "ipython3",
   "version": "3.9.10"
  },
  "orig_nbformat": 4
 },
 "nbformat": 4,
 "nbformat_minor": 2
}
