{
 "cells": [
  {
   "cell_type": "markdown",
   "metadata": {},
   "source": [
    "# Ejercicio 1\n"
   ]
  },
  {
   "cell_type": "code",
   "execution_count": 21,
   "metadata": {},
   "outputs": [],
   "source": [
    "def combustible (lectura1, lectura2, lectura3): \n",
    "    total_tanques = (lectura1+ lectura2+ lectura3) / 3\n",
    "    return f' Tanque 1: {lectura1}, Tanque 2: {lectura2}, Tanque 3: {lectura3}. Total: {total_tanques}' \n"
   ]
  },
  {
   "cell_type": "code",
   "execution_count": 22,
   "metadata": {},
   "outputs": [
    {
     "data": {
      "text/plain": [
       "' Tanque 1: 15, Tanque 2: 15, Tanque 3: 15. Total: 15.0'"
      ]
     },
     "execution_count": 22,
     "metadata": {},
     "output_type": "execute_result"
    }
   ],
   "source": [
    "combustible (15, 15, 15)"
   ]
  },
  {
   "cell_type": "code",
   "execution_count": 38,
   "metadata": {},
   "outputs": [],
   "source": [
    "# nueva funcion \n",
    "def promedio (variable): \n",
    "    total = sum (variable) / len(variable)\n",
    "    return total\n",
    "\n"
   ]
  },
  {
   "cell_type": "code",
   "execution_count": 39,
   "metadata": {},
   "outputs": [
    {
     "data": {
      "text/plain": [
       "15.0"
      ]
     },
     "execution_count": 39,
     "metadata": {},
     "output_type": "execute_result"
    }
   ],
   "source": [
    "promedio ([15, 15, 15, 15])"
   ]
  },
  {
   "cell_type": "code",
   "execution_count": 41,
   "metadata": {},
   "outputs": [],
   "source": [
    "# actualización \n",
    "def combustible (lectura1, lectura2, lectura3): \n",
    "    return f' Tanque 1: {lectura1}, Tanque 2: {lectura2}, Tanque 3: {lectura3}. Total: {promedio ([lectura1, lectura2, lectura3])}' \n"
   ]
  },
  {
   "cell_type": "code",
   "execution_count": 42,
   "metadata": {},
   "outputs": [
    {
     "data": {
      "text/plain": [
       "' Tanque 1: 14, Tanque 2: 14, Tanque 3: 14. Total: 14.0'"
      ]
     },
     "execution_count": 42,
     "metadata": {},
     "output_type": "execute_result"
    }
   ],
   "source": [
    "combustible (14, 14, 14)"
   ]
  },
  {
   "cell_type": "markdown",
   "metadata": {},
   "source": [
    "# Ejercicio 2"
   ]
  },
  {
   "cell_type": "code",
   "execution_count": 4,
   "metadata": {},
   "outputs": [],
   "source": [
    "\n",
    "def informe_mission (hora, tiempo, destino, tanque_interno, tanque_externo):\n",
    "    return f' La tiempo de prelanzamiento es de {hora} min. El tiempo de vuelo es de {tiempo} min. Nuestro destino es {destino}. Y nuestro combustible es de {tanque_interno + tanque_externo} lts' \n",
    "\n"
   ]
  },
  {
   "cell_type": "code",
   "execution_count": 5,
   "metadata": {},
   "outputs": [
    {
     "data": {
      "text/plain": [
       "' La tiempo de prelanzamiento es de 17 min. El tiempo de vuelo es de 600 min. Nuestro destino es Moon. Y nuestro combustible es de 2400 lts'"
      ]
     },
     "execution_count": 5,
     "metadata": {},
     "output_type": "execute_result"
    }
   ],
   "source": [
    "informe_mission (17, 600, 'Moon' , 2000, 400)"
   ]
  },
  {
   "cell_type": "code",
   "execution_count": 7,
   "metadata": {},
   "outputs": [
    {
     "name": "stdout",
     "output_type": "stream",
     "text": [
      " El destino del viaje es luna. El tiempo de viaje será de 12 minutos. Tenemos 4 lts de combustible\n"
     ]
    }
   ],
   "source": [
    "def informe (destino, *tiempo, **tanques): \n",
    "    reporte = f' El destino del viaje es {destino}. El tiempo de viaje será de {sum (tiempo)} minutos. Tenemos {sum (tanques.values ())} lts de combustible'\n",
    "    return reporte  \n",
    "\n",
    "print (informe ( 'luna', 3,3,3,3,t1=2, t2=2))\n",
    "\n",
    "\n",
    "\n"
   ]
  },
  {
   "cell_type": "code",
   "execution_count": 16,
   "metadata": {},
   "outputs": [
    {
     "name": "stdout",
     "output_type": "stream",
     "text": [
      "\n",
      "    El destino del viaje es luna. \n",
      "    El tiempo de viaje será de 12 minutos. \n",
      "    Tenemos 4 lts de combustible. \n",
      "    En el primer tanque quedan 2 litros. En el segundo tanque quedan 2 litros. \n"
     ]
    }
   ],
   "source": [
    "def informe (destino, *tiempo, **tanques): \n",
    "    reporte = f\"\"\"\n",
    "    El destino del viaje es {destino}. \n",
    "    El tiempo de viaje será de {sum (tiempo)} minutos. \n",
    "    Tenemos {sum (tanques.values ())} lts de combustible. \n",
    "    \"\"\"\n",
    "    for nombre_tanqu, lts in tanques.items ():\n",
    "        reporte += f'En el {nombre_tanqu} tanque quedan {lts} litros. '\n",
    "\n",
    "    return reporte  \n",
    "\n",
    "print (informe ( 'luna', 3,3,3,3,primer=2, segundo=2))\n"
   ]
  }
 ],
 "metadata": {
  "interpreter": {
   "hash": "a9cdaa1654576d4242bf826472b6c0b6926e0c20c06bca416ef8a77950eb2d13"
  },
  "kernelspec": {
   "display_name": "Python 3.9.10 64-bit (windows store)",
   "language": "python",
   "name": "python3"
  },
  "language_info": {
   "codemirror_mode": {
    "name": "ipython",
    "version": 3
   },
   "file_extension": ".py",
   "mimetype": "text/x-python",
   "name": "python",
   "nbconvert_exporter": "python",
   "pygments_lexer": "ipython3",
   "version": "3.9.10"
  },
  "orig_nbformat": 4
 },
 "nbformat": 4,
 "nbformat_minor": 2
}
