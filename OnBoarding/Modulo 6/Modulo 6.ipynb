{
 "cells": [
  {
   "cell_type": "code",
   "execution_count": 1,
   "metadata": {},
   "outputs": [],
   "source": [
    "planets = ['Mercury', 'Venus', 'Earth', 'Mars', 'Jupiter', 'Saturn', 'Uranus', 'Neptune' ]\n"
   ]
  },
  {
   "cell_type": "code",
   "execution_count": 4,
   "metadata": {},
   "outputs": [
    {
     "name": "stdout",
     "output_type": "stream",
     "text": [
      "The first planet is Mercury\n"
     ]
    }
   ],
   "source": [
    "print ('The first planet is', planets [0])"
   ]
  },
  {
   "cell_type": "code",
   "execution_count": 5,
   "metadata": {},
   "outputs": [
    {
     "name": "stdout",
     "output_type": "stream",
     "text": [
      "Mars is also jnoen as Red Planet\n"
     ]
    }
   ],
   "source": [
    "planets [3] ='Red Planet'\n",
    "print ('Mars is also jnoen as' , planets [3])"
   ]
  },
  {
   "cell_type": "code",
   "execution_count": 11,
   "metadata": {},
   "outputs": [
    {
     "name": "stdout",
     "output_type": "stream",
     "text": [
      "There are 9 planets in the solar system\n"
     ]
    }
   ],
   "source": [
    "numero_de_planetas = len (planets)\n",
    "print ('There are' , numero_de_planetas , 'planets in the solar system')"
   ]
  },
  {
   "cell_type": "code",
   "execution_count": 53,
   "metadata": {},
   "outputs": [
    {
     "name": "stdout",
     "output_type": "stream",
     "text": [
      "There are 9 planets in the solar system\n"
     ]
    }
   ],
   "source": [
    "planets.append ('Pluton')\n",
    "numero_de_planetas = len (planets)\n",
    "print ('There are' , numero_de_planetas , 'planets in the solar system')"
   ]
  },
  {
   "cell_type": "code",
   "execution_count": 54,
   "metadata": {},
   "outputs": [
    {
     "name": "stdout",
     "output_type": "stream",
     "text": [
      "No, there are definitely 8 planets in the solar system\n"
     ]
    }
   ],
   "source": [
    "planets.pop ()\n",
    "numero_de_planetas = len (planets)\n",
    "print ('No, there are definitely' , numero_de_planetas , 'planets in the solar system')"
   ]
  },
  {
   "cell_type": "code",
   "execution_count": 56,
   "metadata": {},
   "outputs": [
    {
     "name": "stdout",
     "output_type": "stream",
     "text": [
      "The last planet is Neptune\n",
      "The penultimate planet is Uranus\n"
     ]
    }
   ],
   "source": [
    "print ('The last planet is' , planets [-1])\n",
    "print ('The penultimate planet is' , planets [-2])"
   ]
  },
  {
   "cell_type": "code",
   "execution_count": 55,
   "metadata": {},
   "outputs": [
    {
     "name": "stdout",
     "output_type": "stream",
     "text": [
      "['Mercury', 'Venus', 'Earth', 'Red Planet', 'Jupiter', 'Saturn', 'Uranus', 'Neptune']\n"
     ]
    }
   ],
   "source": [
    "print (planets)"
   ]
  },
  {
   "cell_type": "code",
   "execution_count": 59,
   "metadata": {},
   "outputs": [
    {
     "name": "stdout",
     "output_type": "stream",
     "text": [
      "Jupiter is the 5 planet from de sun\n"
     ]
    }
   ],
   "source": [
    "jupiter_index = planets.index ('Jupiter')\n",
    "print ('Jupiter is the' , jupiter_index +1 , 'planet from de sun')"
   ]
  },
  {
   "cell_type": "code",
   "execution_count": 80,
   "metadata": {},
   "outputs": [
    {
     "name": "stdout",
     "output_type": "stream",
     "text": [
      "[0.378, 0.907, 1, 0.379, 2.36, 0.916, 0.889, 1.12]\n"
     ]
    }
   ],
   "source": [
    "gravity_on_earth = 1.0\n",
    "gravity_on_the_moon = 0.166\n",
    "gravity_on_the_planets = [0.378, 0.907, 1, 0.379, 2.36, 0.916, 0.889, 1.12]\n",
    "print (gravity_on_the_planets)"
   ]
  },
  {
   "cell_type": "code",
   "execution_count": 77,
   "metadata": {},
   "outputs": [
    {
     "name": "stdout",
     "output_type": "stream",
     "text": [
      "On Earth, a double-decker bus weighs 12650 kg\n",
      "On Mercury, a double-decker bus weighs 4781.7 kg\n"
     ]
    }
   ],
   "source": [
    "peso_bus = 12650 #kg on Earth \n",
    "print ('On Earth, a double-decker bus weighs' , peso_bus, 'kg')\n",
    "print ('On Mercury, a double-decker bus weighs', (peso_bus * gravity_on_the_planets [0]), 'kg')"
   ]
  },
  {
   "cell_type": "code",
   "execution_count": 83,
   "metadata": {},
   "outputs": [
    {
     "name": "stdout",
     "output_type": "stream",
     "text": [
      "On Earth, a double-decker bus weighs 12650 kg\n",
      "The lightest a bus would be in the solar system is 4781.7 kg\n",
      "The haviest a bus would be in the solar system is 29854.0 kg\n"
     ]
    }
   ],
   "source": [
    "peso_bus = 12650 #kg on Earth \n",
    "print ('On Earth, a double-decker bus weighs' , peso_bus, 'kg')\n",
    "print ('The lightest a bus would be in the solar system is' , peso_bus * min (gravity_on_the_planets), 'kg')\n",
    "print ('The haviest a bus would be in the solar system is' , peso_bus * max (gravity_on_the_planets), 'kg')\n",
    "\n"
   ]
  },
  {
   "cell_type": "code",
   "execution_count": 86,
   "metadata": {},
   "outputs": [
    {
     "name": "stdout",
     "output_type": "stream",
     "text": [
      "['Mercury', 'Venus']\n"
     ]
    }
   ],
   "source": [
    "planets_before_earth = planets [0:2]\n",
    "print (planets_before_earth)"
   ]
  },
  {
   "cell_type": "code",
   "execution_count": 93,
   "metadata": {},
   "outputs": [
    {
     "name": "stdout",
     "output_type": "stream",
     "text": [
      "['Red Planet', 'Jupiter', 'Saturn', 'Uranus', 'Neptune']\n"
     ]
    }
   ],
   "source": [
    "planets_after_earth = planets [3:8]\n",
    "print (planets_after_earth)"
   ]
  },
  {
   "cell_type": "code",
   "execution_count": 94,
   "metadata": {},
   "outputs": [
    {
     "name": "stdout",
     "output_type": "stream",
     "text": [
      "The regular satellite moons of Jupiter are ['Io', 'Europa', 'Ganímedes', 'Callisto', 'Metis', 'Adrastea', 'Amaltea', 'Teba']\n"
     ]
    }
   ],
   "source": [
    "galileanas_moon = ['Io', 'Europa', 'Ganímedes', 'Callisto']\n",
    "amaltea_moon = ['Metis', 'Adrastea', 'Amaltea', 'Teba']\n",
    "regular_moon = galileanas_moon + amaltea_moon \n",
    "print ('The regular satellite moons of Jupiter are', regular_moon)"
   ]
  },
  {
   "cell_type": "code",
   "execution_count": 95,
   "metadata": {},
   "outputs": [
    {
     "name": "stdout",
     "output_type": "stream",
     "text": [
      "The regular satellite moons of Jupiter are ['Adrastea', 'Amaltea', 'Callisto', 'Europa', 'Ganímedes', 'Io', 'Metis', 'Teba']\n"
     ]
    }
   ],
   "source": [
    "regular_moon.sort ()\n",
    "print ('The regular satellite moons of Jupiter are', regular_moon )"
   ]
  },
  {
   "cell_type": "code",
   "execution_count": 103,
   "metadata": {},
   "outputs": [
    {
     "name": "stdout",
     "output_type": "stream",
     "text": [
      "The regular satellite moons of Jupiter are ['Teba', 'Metis', 'Io', 'Ganímedes', 'Europa', 'Callisto', 'Amaltea', 'Adrastea']\n"
     ]
    }
   ],
   "source": [
    "regular_moon.sort (reverse=True)\n",
    "\n",
    "print ('The regular satellite moons of Jupiter are' , regular_moon)"
   ]
  },
  {
   "cell_type": "code",
   "execution_count": null,
   "metadata": {},
   "outputs": [],
   "source": []
  },
  {
   "cell_type": "code",
   "execution_count": null,
   "metadata": {},
   "outputs": [],
   "source": []
  },
  {
   "cell_type": "code",
   "execution_count": null,
   "metadata": {},
   "outputs": [],
   "source": []
  },
  {
   "cell_type": "code",
   "execution_count": null,
   "metadata": {},
   "outputs": [],
   "source": []
  }
 ],
 "metadata": {
  "interpreter": {
   "hash": "a9cdaa1654576d4242bf826472b6c0b6926e0c20c06bca416ef8a77950eb2d13"
  },
  "kernelspec": {
   "display_name": "Python 3.9.10 64-bit (windows store)",
   "language": "python",
   "name": "python3"
  },
  "language_info": {
   "codemirror_mode": {
    "name": "ipython",
    "version": 3
   },
   "file_extension": ".py",
   "mimetype": "text/x-python",
   "name": "python",
   "nbconvert_exporter": "python",
   "pygments_lexer": "ipython3",
   "version": "3.9.10"
  },
  "orig_nbformat": 4
 },
 "nbformat": 4,
 "nbformat_minor": 2
}
